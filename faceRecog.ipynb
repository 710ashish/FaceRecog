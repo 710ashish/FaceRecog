{
 "cells": [
  {
   "cell_type": "markdown",
   "metadata": {},
   "source": [
    "# Implementation of face recognition using neural net "
   ]
  },
  {
   "cell_type": "code",
   "execution_count": 1,
   "metadata": {
    "collapsed": true
   },
   "outputs": [],
   "source": [
    "%matplotlib inline"
   ]
  },
  {
   "cell_type": "code",
   "execution_count": 2,
   "metadata": {
    "collapsed": false
   },
   "outputs": [],
   "source": [
    "import cv2\n",
    "import numpy as np\n",
    "import os\n",
    "from skimage import io\n",
    "from sklearn.cross_validation import train_test_split\n",
    "import matplotlib.pyplot as plt"
   ]
  },
  {
   "cell_type": "code",
   "execution_count": 3,
   "metadata": {
    "collapsed": false
   },
   "outputs": [
    {
     "name": "stderr",
     "output_type": "stream",
     "text": [
      "Using Theano backend.\n"
     ]
    }
   ],
   "source": [
    "from keras.utils import np_utils\n",
    "from keras.models import Sequential\n",
    "from keras.layers import Dense, Dropout, Activation"
   ]
  },
  {
   "cell_type": "markdown",
   "metadata": {},
   "source": [
    "#### Listing the path of all the images"
   ]
  },
  {
   "cell_type": "code",
   "execution_count": 4,
   "metadata": {
    "collapsed": true
   },
   "outputs": [],
   "source": [
    "DatasetPath = []\n",
    "for i in os.listdir(\"yalefaces\"):\n",
    "    DatasetPath.append(os.path.join(\"yalefaces\", i))"
   ]
  },
  {
   "cell_type": "markdown",
   "metadata": {},
   "source": [
    "#### Reading each image and assigning respective labels"
   ]
  },
  {
   "cell_type": "code",
   "execution_count": 5,
   "metadata": {
    "collapsed": false,
    "scrolled": true
   },
   "outputs": [],
   "source": [
    "imageData = []\n",
    "imageLabels = []"
   ]
  },
  {
   "cell_type": "code",
   "execution_count": 6,
   "metadata": {
    "collapsed": true
   },
   "outputs": [],
   "source": [
    "for i in DatasetPath:\n",
    "    imgRead = io.imread(i,as_grey=True)\n",
    "    imageData.append(imgRead)\n",
    "    \n",
    "    labelRead = int(os.path.split(i)[1].split(\".\")[0].replace(\"subject\", \"\")) - 1\n",
    "    imageLabels.append(labelRead)"
   ]
  },
  {
   "cell_type": "markdown",
   "metadata": {},
   "source": [
    "#### Preprocessing: Face Detection using OpenCV and cropping the image to a size of 150 * 150"
   ]
  },
  {
   "cell_type": "code",
   "execution_count": 7,
   "metadata": {
    "collapsed": false
   },
   "outputs": [],
   "source": [
    "faceDetectClassifier = cv2.CascadeClassifier(\"haarcascade_frontalface_default.xml\")"
   ]
  },
  {
   "cell_type": "code",
   "execution_count": 8,
   "metadata": {
    "collapsed": false
   },
   "outputs": [],
   "source": [
    "imageDataFin = []\n",
    "for i in imageData:\n",
    "    facePoints = faceDetectClassifier.detectMultiScale(i)\n",
    "    x,y = facePoints[0][:2]\n",
    "    cropped = i[y: y + 150, x: x + 150]\n",
    "    imageDataFin.append(cropped)"
   ]
  },
  {
   "cell_type": "code",
   "execution_count": 9,
   "metadata": {
    "collapsed": true
   },
   "outputs": [],
   "source": [
    "c = np.array(imageDataFin)"
   ]
  },
  {
   "cell_type": "code",
   "execution_count": 10,
   "metadata": {
    "collapsed": false
   },
   "outputs": [
    {
     "data": {
      "text/plain": [
       "(165, 150, 150)"
      ]
     },
     "execution_count": 10,
     "metadata": {},
     "output_type": "execute_result"
    }
   ],
   "source": [
    "c.shape"
   ]
  },
  {
   "cell_type": "markdown",
   "metadata": {},
   "source": [
    "#### Splitting Dataset into train and test"
   ]
  },
  {
   "cell_type": "code",
   "execution_count": 11,
   "metadata": {
    "collapsed": true
   },
   "outputs": [],
   "source": [
    "X_train, X_test, y_train, y_test = train_test_split(np.array(imageDataFin),np.array(imageLabels), train_size=0.9, random_state = 20)"
   ]
  },
  {
   "cell_type": "code",
   "execution_count": 12,
   "metadata": {
    "collapsed": false
   },
   "outputs": [],
   "source": [
    "X_train = np.array(X_train)\n",
    "X_test = np.array(X_test)"
   ]
  },
  {
   "cell_type": "code",
   "execution_count": 13,
   "metadata": {
    "collapsed": false
   },
   "outputs": [
    {
     "data": {
      "text/plain": [
       "(148, 150, 150)"
      ]
     },
     "execution_count": 13,
     "metadata": {},
     "output_type": "execute_result"
    }
   ],
   "source": [
    "X_train.shape"
   ]
  },
  {
   "cell_type": "code",
   "execution_count": 14,
   "metadata": {
    "collapsed": false
   },
   "outputs": [
    {
     "data": {
      "text/plain": [
       "(17, 150, 150)"
      ]
     },
     "execution_count": 14,
     "metadata": {},
     "output_type": "execute_result"
    }
   ],
   "source": [
    "X_test.shape"
   ]
  },
  {
   "cell_type": "code",
   "execution_count": 15,
   "metadata": {
    "collapsed": true
   },
   "outputs": [],
   "source": [
    "nb_classes = 15\n",
    "y_train = np.array(y_train) \n",
    "y_test = np.array(y_test) "
   ]
  },
  {
   "cell_type": "code",
   "execution_count": 16,
   "metadata": {
    "collapsed": false
   },
   "outputs": [],
   "source": [
    "Y_train = np_utils.to_categorical(y_train, nb_classes)\n",
    "Y_test = np_utils.to_categorical(y_test, nb_classes)"
   ]
  },
  {
   "cell_type": "markdown",
   "metadata": {},
   "source": [
    "#### Converting each 2d image into 1D vector"
   ]
  },
  {
   "cell_type": "code",
   "execution_count": 17,
   "metadata": {
    "collapsed": false
   },
   "outputs": [],
   "source": [
    "X_train = X_train.reshape(148, 150*150)\n",
    "X_test = X_test.reshape(17, 150*150)"
   ]
  },
  {
   "cell_type": "code",
   "execution_count": 18,
   "metadata": {
    "collapsed": true
   },
   "outputs": [],
   "source": [
    "X_train = X_train.astype('float32')\n",
    "X_test = X_test.astype('float32')\n",
    "\n",
    "X_train /= 255\n",
    "X_test /= 255"
   ]
  },
  {
   "cell_type": "code",
   "execution_count": 19,
   "metadata": {
    "collapsed": false
   },
   "outputs": [
    {
     "name": "stdout",
     "output_type": "stream",
     "text": [
      "Training matrix shape (148, 22500)\n",
      "Testing matrix shape (17, 22500)\n"
     ]
    }
   ],
   "source": [
    "print(\"Training matrix shape\", X_train.shape)\n",
    "print(\"Testing matrix shape\", X_test.shape)"
   ]
  },
  {
   "cell_type": "markdown",
   "metadata": {},
   "source": [
    "#### Defining the model"
   ]
  },
  {
   "cell_type": "code",
   "execution_count": 20,
   "metadata": {
    "collapsed": false
   },
   "outputs": [],
   "source": [
    "model = Sequential()\n",
    "model.add(Dense(512,input_shape=(X_train.shape[1],)))\n",
    "model.add(Activation('relu'))\n",
    "model.add(Dropout(0.2))   # Dropout helps protect the model from memorizing or \"overfitting\" the training data\n",
    "model.add(Dense(512))\n",
    "model.add(Activation('relu'))\n",
    "model.add(Dropout(0.2))\n",
    "model.add(Dense(nb_classes))\n",
    "model.add(Activation('softmax'))"
   ]
  },
  {
   "cell_type": "code",
   "execution_count": 21,
   "metadata": {
    "collapsed": false
   },
   "outputs": [
    {
     "name": "stdout",
     "output_type": "stream",
     "text": [
      "____________________________________________________________________________________________________\n",
      "Layer (type)                     Output Shape          Param #     Connected to                     \n",
      "====================================================================================================\n",
      "dense_1 (Dense)                  (None, 512)           11520512    dense_input_1[0][0]              \n",
      "____________________________________________________________________________________________________\n",
      "activation_1 (Activation)        (None, 512)           0           dense_1[0][0]                    \n",
      "____________________________________________________________________________________________________\n",
      "dropout_1 (Dropout)              (None, 512)           0           activation_1[0][0]               \n",
      "____________________________________________________________________________________________________\n",
      "dense_2 (Dense)                  (None, 512)           262656      dropout_1[0][0]                  \n",
      "____________________________________________________________________________________________________\n",
      "activation_2 (Activation)        (None, 512)           0           dense_2[0][0]                    \n",
      "____________________________________________________________________________________________________\n",
      "dropout_2 (Dropout)              (None, 512)           0           activation_2[0][0]               \n",
      "____________________________________________________________________________________________________\n",
      "dense_3 (Dense)                  (None, 15)            7695        dropout_2[0][0]                  \n",
      "____________________________________________________________________________________________________\n",
      "activation_3 (Activation)        (None, 15)            0           dense_3[0][0]                    \n",
      "====================================================================================================\n",
      "Total params: 11790863\n",
      "____________________________________________________________________________________________________\n"
     ]
    }
   ],
   "source": [
    "model.summary()"
   ]
  },
  {
   "cell_type": "code",
   "execution_count": 22,
   "metadata": {
    "collapsed": true
   },
   "outputs": [],
   "source": [
    "model.compile(loss='categorical_crossentropy', optimizer=\"adam\", metrics=['accuracy'])"
   ]
  },
  {
   "cell_type": "markdown",
   "metadata": {},
   "source": [
    "#### Training"
   ]
  },
  {
   "cell_type": "code",
   "execution_count": 24,
   "metadata": {
    "collapsed": false
   },
   "outputs": [
    {
     "name": "stdout",
     "output_type": "stream",
     "text": [
      "Train on 148 samples, validate on 17 samples\n",
      "Epoch 1/50\n",
      "148/148 [==============================] - 0s - loss: 1.3796 - acc: 0.4932 - val_loss: 1.2510 - val_acc: 0.5294\n",
      "Epoch 2/50\n",
      "148/148 [==============================] - 0s - loss: 1.2904 - acc: 0.5405 - val_loss: 1.1819 - val_acc: 0.6471\n",
      "Epoch 3/50\n",
      "148/148 [==============================] - 0s - loss: 1.0461 - acc: 0.6622 - val_loss: 1.0030 - val_acc: 0.7059\n",
      "Epoch 4/50\n",
      "148/148 [==============================] - 0s - loss: 0.8674 - acc: 0.7432 - val_loss: 0.7935 - val_acc: 0.7059\n",
      "Epoch 5/50\n",
      "148/148 [==============================] - 0s - loss: 0.7206 - acc: 0.7297 - val_loss: 0.5932 - val_acc: 0.7647\n",
      "Epoch 6/50\n",
      "148/148 [==============================] - 0s - loss: 0.6103 - acc: 0.7770 - val_loss: 0.4722 - val_acc: 0.8235\n",
      "Epoch 7/50\n",
      "148/148 [==============================] - 0s - loss: 0.5956 - acc: 0.8243 - val_loss: 0.6578 - val_acc: 0.7647\n",
      "Epoch 8/50\n",
      "148/148 [==============================] - 0s - loss: 0.5253 - acc: 0.8176 - val_loss: 0.5795 - val_acc: 0.7647\n",
      "Epoch 9/50\n",
      "148/148 [==============================] - 0s - loss: 0.4019 - acc: 0.8514 - val_loss: 0.6335 - val_acc: 0.8235\n",
      "Epoch 10/50\n",
      "148/148 [==============================] - 0s - loss: 0.3510 - acc: 0.8986 - val_loss: 0.5780 - val_acc: 0.8824\n",
      "Epoch 11/50\n",
      "148/148 [==============================] - 0s - loss: 0.3710 - acc: 0.8716 - val_loss: 0.5601 - val_acc: 0.8235\n",
      "Epoch 12/50\n",
      "148/148 [==============================] - 0s - loss: 0.3248 - acc: 0.9054 - val_loss: 0.4619 - val_acc: 0.8235\n",
      "Epoch 13/50\n",
      "148/148 [==============================] - 0s - loss: 0.3321 - acc: 0.8716 - val_loss: 0.3607 - val_acc: 0.8824\n",
      "Epoch 14/50\n",
      "148/148 [==============================] - 0s - loss: 0.3534 - acc: 0.9054 - val_loss: 0.4149 - val_acc: 0.8824\n",
      "Epoch 15/50\n",
      "148/148 [==============================] - 0s - loss: 0.1847 - acc: 0.9527 - val_loss: 0.4077 - val_acc: 0.8824\n",
      "Epoch 16/50\n",
      "148/148 [==============================] - 0s - loss: 0.3017 - acc: 0.9122 - val_loss: 0.3454 - val_acc: 0.8824\n",
      "Epoch 17/50\n",
      "148/148 [==============================] - 0s - loss: 0.2474 - acc: 0.9054 - val_loss: 0.3006 - val_acc: 0.9412\n",
      "Epoch 18/50\n",
      "148/148 [==============================] - 0s - loss: 0.2627 - acc: 0.9189 - val_loss: 0.2650 - val_acc: 0.8824\n",
      "Epoch 19/50\n",
      "148/148 [==============================] - 0s - loss: 0.1825 - acc: 0.9324 - val_loss: 0.2528 - val_acc: 0.8824\n",
      "Epoch 20/50\n",
      "148/148 [==============================] - 0s - loss: 0.1874 - acc: 0.9392 - val_loss: 0.3352 - val_acc: 0.8235\n",
      "Epoch 21/50\n",
      "148/148 [==============================] - 0s - loss: 0.2417 - acc: 0.9054 - val_loss: 0.2989 - val_acc: 0.9412\n",
      "Epoch 22/50\n",
      "148/148 [==============================] - 0s - loss: 0.1234 - acc: 0.9595 - val_loss: 0.3128 - val_acc: 0.8824\n",
      "Epoch 23/50\n",
      "148/148 [==============================] - 0s - loss: 0.1303 - acc: 0.9797 - val_loss: 0.1829 - val_acc: 0.9412\n",
      "Epoch 24/50\n",
      "148/148 [==============================] - 0s - loss: 0.1818 - acc: 0.9324 - val_loss: 0.2142 - val_acc: 0.9412\n",
      "Epoch 25/50\n",
      "148/148 [==============================] - 0s - loss: 0.1001 - acc: 0.9730 - val_loss: 0.3300 - val_acc: 0.9412\n",
      "Epoch 26/50\n",
      "148/148 [==============================] - 0s - loss: 0.2042 - acc: 0.9324 - val_loss: 0.2955 - val_acc: 0.8824\n",
      "Epoch 27/50\n",
      "148/148 [==============================] - 0s - loss: 0.1151 - acc: 0.9730 - val_loss: 0.1884 - val_acc: 0.9412\n",
      "Epoch 28/50\n",
      "148/148 [==============================] - 0s - loss: 0.0682 - acc: 0.9865 - val_loss: 0.2264 - val_acc: 0.8824\n",
      "Epoch 29/50\n",
      "148/148 [==============================] - 0s - loss: 0.1423 - acc: 0.9527 - val_loss: 0.2289 - val_acc: 0.9412\n",
      "Epoch 30/50\n",
      "148/148 [==============================] - 0s - loss: 0.1134 - acc: 0.9595 - val_loss: 0.0984 - val_acc: 1.0000\n",
      "Epoch 31/50\n",
      "148/148 [==============================] - 0s - loss: 0.0664 - acc: 0.9730 - val_loss: 0.1676 - val_acc: 0.9412\n",
      "Epoch 32/50\n",
      "148/148 [==============================] - 0s - loss: 0.0981 - acc: 0.9527 - val_loss: 0.3029 - val_acc: 0.8824\n",
      "Epoch 33/50\n",
      "148/148 [==============================] - 0s - loss: 0.0732 - acc: 0.9730 - val_loss: 0.3287 - val_acc: 0.8824\n",
      "Epoch 34/50\n",
      "148/148 [==============================] - 0s - loss: 0.1471 - acc: 0.9392 - val_loss: 0.1742 - val_acc: 0.9412\n",
      "Epoch 35/50\n",
      "148/148 [==============================] - 0s - loss: 0.0938 - acc: 0.9797 - val_loss: 0.1618 - val_acc: 0.9412\n",
      "Epoch 36/50\n",
      "148/148 [==============================] - 0s - loss: 0.0633 - acc: 0.9865 - val_loss: 0.1437 - val_acc: 0.9412\n",
      "Epoch 37/50\n",
      "148/148 [==============================] - 0s - loss: 0.0871 - acc: 0.9730 - val_loss: 0.1286 - val_acc: 0.9412\n",
      "Epoch 38/50\n",
      "148/148 [==============================] - 0s - loss: 0.0424 - acc: 1.0000 - val_loss: 0.1783 - val_acc: 0.8824\n",
      "Epoch 39/50\n",
      "148/148 [==============================] - 0s - loss: 0.1280 - acc: 0.9730 - val_loss: 0.2425 - val_acc: 0.8824\n",
      "Epoch 40/50\n",
      "148/148 [==============================] - 0s - loss: 0.0681 - acc: 0.9797 - val_loss: 0.2375 - val_acc: 0.9412\n",
      "Epoch 41/50\n",
      "148/148 [==============================] - 0s - loss: 0.0506 - acc: 0.9797 - val_loss: 0.3949 - val_acc: 0.8235\n",
      "Epoch 42/50\n",
      "148/148 [==============================] - 0s - loss: 0.0958 - acc: 0.9730 - val_loss: 0.3161 - val_acc: 0.8824\n",
      "Epoch 43/50\n",
      "148/148 [==============================] - 0s - loss: 0.1002 - acc: 0.9595 - val_loss: 0.1111 - val_acc: 1.0000\n",
      "Epoch 44/50\n",
      "148/148 [==============================] - 0s - loss: 0.0796 - acc: 0.9865 - val_loss: 0.1162 - val_acc: 1.0000\n",
      "Epoch 45/50\n",
      "148/148 [==============================] - 0s - loss: 0.0626 - acc: 0.9865 - val_loss: 0.1368 - val_acc: 0.9412\n",
      "Epoch 46/50\n",
      "148/148 [==============================] - 0s - loss: 0.0992 - acc: 0.9595 - val_loss: 0.2063 - val_acc: 0.9412\n",
      "Epoch 47/50\n",
      "148/148 [==============================] - 0s - loss: 0.0212 - acc: 1.0000 - val_loss: 0.3546 - val_acc: 0.9412\n",
      "Epoch 48/50\n",
      "148/148 [==============================] - 0s - loss: 0.1046 - acc: 0.9730 - val_loss: 0.4269 - val_acc: 0.9412\n",
      "Epoch 49/50\n",
      "148/148 [==============================] - 0s - loss: 0.0671 - acc: 0.9797 - val_loss: 0.4717 - val_acc: 0.8824\n",
      "Epoch 50/50\n",
      "148/148 [==============================] - 0s - loss: 0.0671 - acc: 0.9865 - val_loss: 0.2903 - val_acc: 0.8824\n"
     ]
    },
    {
     "data": {
      "text/plain": [
       "<keras.callbacks.History at 0x128b00278>"
      ]
     },
     "execution_count": 24,
     "metadata": {},
     "output_type": "execute_result"
    }
   ],
   "source": [
    "model.fit(X_train, Y_train, batch_size=64, nb_epoch=50, verbose=1, validation_data=(X_test, Y_test))"
   ]
  },
  {
   "cell_type": "markdown",
   "metadata": {},
   "source": [
    "#### Evaluating the performance"
   ]
  },
  {
   "cell_type": "code",
   "execution_count": 25,
   "metadata": {
    "collapsed": true
   },
   "outputs": [],
   "source": [
    "loss, accuracy = model.evaluate(X_test,Y_test, verbose=0)"
   ]
  },
  {
   "cell_type": "code",
   "execution_count": 30,
   "metadata": {
    "collapsed": false
   },
   "outputs": [
    {
     "data": {
      "text/plain": [
       "0.29031366109848022"
      ]
     },
     "execution_count": 30,
     "metadata": {},
     "output_type": "execute_result"
    }
   ],
   "source": [
    "loss"
   ]
  },
  {
   "cell_type": "code",
   "execution_count": 31,
   "metadata": {
    "collapsed": false
   },
   "outputs": [
    {
     "data": {
      "text/plain": [
       "0.88235294818878174"
      ]
     },
     "execution_count": 31,
     "metadata": {},
     "output_type": "execute_result"
    }
   ],
   "source": [
    "accuracy"
   ]
  },
  {
   "cell_type": "code",
   "execution_count": 32,
   "metadata": {
    "collapsed": false
   },
   "outputs": [
    {
     "name": "stdout",
     "output_type": "stream",
     "text": [
      "17/17 [==============================] - 0s\n"
     ]
    }
   ],
   "source": [
    "predicted_classes = model.predict_classes(X_test)"
   ]
  },
  {
   "cell_type": "code",
   "execution_count": 33,
   "metadata": {
    "collapsed": true
   },
   "outputs": [],
   "source": [
    "correct_indices = np.nonzero(predicted_classes == y_test)[0]\n",
    "incorrect_indices = np.nonzero(predicted_classes != y_test)[0]"
   ]
  },
  {
   "cell_type": "code",
   "execution_count": 34,
   "metadata": {
    "collapsed": false
   },
   "outputs": [
    {
     "data": {
      "text/plain": [
       "array([ 1,  2,  3,  4,  5,  6,  7,  8,  9, 10, 12, 13, 14, 15, 16])"
      ]
     },
     "execution_count": 34,
     "metadata": {},
     "output_type": "execute_result"
    }
   ],
   "source": [
    "correct_indices"
   ]
  },
  {
   "cell_type": "code",
   "execution_count": 35,
   "metadata": {
    "collapsed": false
   },
   "outputs": [
    {
     "data": {
      "text/plain": [
       "array([ 0, 11])"
      ]
     },
     "execution_count": 35,
     "metadata": {},
     "output_type": "execute_result"
    }
   ],
   "source": [
    "incorrect_indices"
   ]
  }
 ],
 "metadata": {
  "kernelspec": {
   "display_name": "Python 3",
   "language": "python",
   "name": "python3"
  },
  "language_info": {
   "codemirror_mode": {
    "name": "ipython",
    "version": 3
   },
   "file_extension": ".py",
   "mimetype": "text/x-python",
   "name": "python",
   "nbconvert_exporter": "python",
   "pygments_lexer": "ipython3",
   "version": "3.5.2"
  }
 },
 "nbformat": 4,
 "nbformat_minor": 1
}
